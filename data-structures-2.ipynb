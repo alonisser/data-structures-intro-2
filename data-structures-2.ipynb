{
 "cells": [
  {
   "cell_type": "code",
   "execution_count": null,
   "metadata": {},
   "outputs": [],
   "source": [
    "import requests"
   ]
  },
  {
   "cell_type": "markdown",
   "metadata": {},
   "source": [
    "# Tuple\n",
    "an immutable, or unchangeable, ordered sequence of elements.\n",
    "\n",
    "So what is the difference between a tuple and a list?"
   ]
  },
  {
   "cell_type": "code",
   "execution_count": null,
   "metadata": {},
   "outputs": [],
   "source": [
    "# Let's create a tuple\n",
    "record = ('alon','nisser', 45)\n",
    "record[0]\n",
    "\n",
    "# Run it (ctrl-enter)\n",
    "# Try getting the second element, and the 4th"
   ]
  },
  {
   "cell_type": "code",
   "execution_count": null,
   "metadata": {},
   "outputs": [],
   "source": [
    "# Wקe can iterate on it like a list\n",
    "for item in record:\n",
    "    print(item)"
   ]
  },
  {
   "cell_type": "code",
   "execution_count": null,
   "metadata": {},
   "outputs": [],
   "source": [
    "# Can we add to a tuple?"
   ]
  },
  {
   "cell_type": "code",
   "execution_count": null,
   "metadata": {},
   "outputs": [],
   "source": [
    "record.append('Amit')"
   ]
  },
  {
   "cell_type": "markdown",
   "metadata": {},
   "source": [
    "A tuple is **IMMUTABLE** - **It doesn't change**\n",
    "\n",
    "And **Immutability changes everything**"
   ]
  },
  {
   "cell_type": "markdown",
   "metadata": {},
   "source": [
    "# What is it good for?\n",
    "\n",
    "Mostly it's **Safe value passing**: We won't change it by mistake, so we can save data we don't want to change and pass it around in our program safely\n",
    "\n",
    "thus:\n",
    "\n",
    "* Database access layers would usually return tuples of data from the db\n",
    "* Functions that need to return multiple values would usually return tuples (even by default)\n",
    "* Data we don't want to change by mistake but we need to pass around in our program is usually a tuple"
   ]
  },
  {
   "cell_type": "code",
   "execution_count": null,
   "metadata": {},
   "outputs": [],
   "source": [
    "# Tuple unpacking\n",
    "#Let's say we're in insurance bussiness\n",
    "\n",
    "def time_till_death(age: int):\n",
    "    \"\"\"\n",
    "    I'm the doc string for this morbid function\n",
    "    Insurance types like me, almost nobody else\n",
    "    \n",
    "    :param int age: the client age\n",
    "    :returns estimated time until death, max time until death\n",
    "    :rtype (int, int)\n",
    "    \"\"\"\n",
    "    median_death_age = 80\n",
    "    estimated_median_time_till_death = 80 - age\n",
    "    oldest_man_age = 114\n",
    "    max_time_until_death = 114 - age\n",
    "    # NOTE: two return values\n",
    "    return estimated_median_time_till_death, max_time_until_death\n",
    "\n",
    "# note: we can see info about the function/class which would use the docstring\n",
    "help(time_till_death)"
   ]
  },
  {
   "cell_type": "code",
   "execution_count": null,
   "metadata": {},
   "outputs": [],
   "source": [
    "# So let's take our changes\n",
    "result = time_till_death(45)\n",
    "print(result)\n",
    "print(type(result))\n",
    "print(result[0])"
   ]
  },
  {
   "cell_type": "code",
   "execution_count": null,
   "metadata": {},
   "outputs": [],
   "source": [
    "# but we can \"unpack\" the tuple when we call the function\n",
    "estimated_time_until_death, max_time_until_death = time_till_death(45)\n",
    "print(f'estimated {estimated_time_until_death}')\n",
    "print(f'max {max_time_until_death}')"
   ]
  },
  {
   "cell_type": "code",
   "execution_count": null,
   "metadata": {},
   "outputs": [],
   "source": [
    "![the grim reaper](https://upload.wikimedia.org/wikipedia/commons/9/98/Mort.jpg)"
   ]
  },
  {
   "cell_type": "code",
   "execution_count": null,
   "metadata": {},
   "outputs": [],
   "source": [
    "#We can even use it as a dictionary key \n",
    "\n",
    "my_dict = {result:\"why use it\"}\n",
    "print(my_dict)"
   ]
  },
  {
   "cell_type": "markdown",
   "metadata": {},
   "source": [
    "# Sets\n",
    "\n",
    "an **unordered** collection of data type that is **iterable**, **mutable** and has **no duplicate elements**. The order of elements in a set is undefined"
   ]
  },
  {
   "cell_type": "code",
   "execution_count": null,
   "metadata": {},
   "outputs": [],
   "source": [
    "# creating a set\n",
    "names = {'Tara', 'Amalia','Ruth', 'Nitzan'} # note the curly brackets , like a dict but with a list\n",
    "print(names)\n",
    "for name in names:\n",
    "    print(name)\n",
    "print(type(names))"
   ]
  },
  {
   "cell_type": "code",
   "execution_count": null,
   "metadata": {},
   "outputs": [],
   "source": [
    "# Also a class (like dict) that get's a list\n",
    "literal_names = set(['Tara', 'Amalia','Ruth', 'Nitzan'])\n",
    "for name in literal_names:\n",
    "    print(name)\n",
    "\n",
    "print(type(literal_names))"
   ]
  },
  {
   "cell_type": "code",
   "execution_count": null,
   "metadata": {},
   "outputs": [],
   "source": [
    "names.add('alon')\n",
    "print(names)"
   ]
  },
  {
   "cell_type": "code",
   "execution_count": null,
   "metadata": {},
   "outputs": [],
   "source": [
    "# can we add another of the same?\n",
    "names.add('alon')\n",
    "print(names)"
   ]
  },
  {
   "cell_type": "code",
   "execution_count": null,
   "metadata": {},
   "outputs": [],
   "source": [
    "# NO - they are unique, also note that alon isn't in the end of the set\n",
    "# We can also remove unique elems\n",
    "names.remove('alon')\n",
    "print(names)"
   ]
  },
  {
   "cell_type": "code",
   "execution_count": null,
   "metadata": {},
   "outputs": [],
   "source": [
    "# can we remove twice?\n",
    "names.remove('alon')\n",
    "# What did you get?"
   ]
  },
  {
   "cell_type": "code",
   "execution_count": null,
   "metadata": {},
   "outputs": [],
   "source": [
    "# if we want a \"safer\" remove we can use discard\n",
    "names.discard('alon')"
   ]
  },
  {
   "cell_type": "markdown",
   "metadata": {},
   "source": [
    "# Set and Set theory\n",
    "\n",
    "Actually set are the implemnation of a mathematical topic called [set theory](https://en.wikipedia.org/wiki/Set_theory) and a nice [youtube intro](https://www.youtube.com/watch?v=U4wui1mtotg&list=PLztBpqftvzxWUF1psif8R7aUph4tsIuNw) \n",
    "\n",
    "Which means we can do operations on sets\n",
    "\n",
    "**Let's try!**"
   ]
  },
  {
   "cell_type": "code",
   "execution_count": null,
   "metadata": {},
   "outputs": [],
   "source": [
    "print(names)\n",
    "twins = {'Nitzan','Ruth'}\n",
    "print(twins)\n",
    "\n",
    "before = names - twins\n",
    "print(before)\n",
    "\n",
    "print(before + twins)\n",
    "# Oh"
   ]
  },
  {
   "cell_type": "code",
   "execution_count": null,
   "metadata": {},
   "outputs": [],
   "source": [
    "current_state = before.union(twins)\n",
    "print(current_state)"
   ]
  },
  {
   "cell_type": "code",
   "execution_count": null,
   "metadata": {},
   "outputs": [],
   "source": [
    "# we check just for changes\n",
    "current_state.difference(twins)"
   ]
  },
  {
   "cell_type": "code",
   "execution_count": null,
   "metadata": {},
   "outputs": [],
   "source": [
    "# What happens when differences in both lists\n",
    "one_to_five = {1,2,3, 4, 5}\n",
    "three_to_seven = {3, 4, 5, 6, 7}\n",
    "print(one_to_five.difference(three_to_seven))\n",
    "print(three_to_seven.difference(one_to_five))"
   ]
  },
  {
   "cell_type": "code",
   "execution_count": null,
   "metadata": {},
   "outputs": [],
   "source": [
    "# Or just the symmetric difference\n",
    "print(three_to_seven.symmetric_difference(one_to_five))\n",
    "# returns all the elements which aren't in in the intersection"
   ]
  },
  {
   "cell_type": "code",
   "execution_count": null,
   "metadata": {},
   "outputs": [],
   "source": [
    "# We can do a \"union\"\n",
    "all = one_to_five.union(three_to_seven)\n",
    "print(all)"
   ]
  },
  {
   "cell_type": "code",
   "execution_count": null,
   "metadata": {},
   "outputs": [],
   "source": [
    "# Or just take the intersection of common\n",
    "one_to_five.intersection(three_to_seven)"
   ]
  },
  {
   "cell_type": "code",
   "execution_count": null,
   "metadata": {},
   "outputs": [],
   "source": [
    "# We can also change the set to include only the intersecion (similiar methods also in other places)\n",
    "one_to_five.intersection_update(three_to_seven)\n",
    "print(one_to_five)\n",
    "# Note we've just mutated the set"
   ]
  },
  {
   "cell_type": "code",
   "execution_count": null,
   "metadata": {},
   "outputs": [],
   "source": [
    "# We can also check for the connection between sets - subsets, supersets, etc\n",
    "a = set([1,3,4,5,6,7,8])\n",
    "b = set([7, 5, 4])\n",
    "c = set([0,-1,10])\n",
    "print(b.issubset(a))\n",
    "print(c.issubset(a))\n",
    "print(a.issuperset(b))"
   ]
  },
  {
   "cell_type": "code",
   "execution_count": null,
   "metadata": {},
   "outputs": [],
   "source": [
    "# also some syntetic sugar to handle disjoint sets\n",
    "print(a.isdisjoint(c))\n",
    "print(a.intersection(c))\n",
    "# so disjoint sets mean the intersection between them is an empty set"
   ]
  },
  {
   "cell_type": "markdown",
   "metadata": {},
   "source": [
    "![venn](./images/venn.jpeg)"
   ]
  },
  {
   "cell_type": "markdown",
   "metadata": {},
   "source": [
    "## Sets are very good at keeping a unique list, and doing set math\n",
    "\n",
    "### But also in checking if something is in the list very fast (although it's un ordered)"
   ]
  },
  {
   "cell_type": "code",
   "execution_count": null,
   "metadata": {},
   "outputs": [],
   "source": [
    "a_list = range(1, 10000)\n",
    "print(f'list len {len(a_list)}')\n",
    "my_set = set(a_list)\n",
    "print(f'my set len: {len(my_set)}')"
   ]
  },
  {
   "cell_type": "code",
   "execution_count": null,
   "metadata": {},
   "outputs": [],
   "source": [
    "if 500 in my_set:\n",
    "    print('yey')\n",
    "else:\n",
    "    print('nope')"
   ]
  },
  {
   "cell_type": "markdown",
   "metadata": {},
   "source": [
    "# Example of practical set usage\n",
    "\n",
    "## Let's count unique words"
   ]
  },
  {
   "cell_type": "code",
   "execution_count": null,
   "metadata": {},
   "outputs": [],
   "source": [
    "res = requests.get('http://www.gutenberg.org/files/4300/4300-0.txt')"
   ]
  },
  {
   "cell_type": "code",
   "execution_count": null,
   "metadata": {},
   "outputs": [],
   "source": [
    "encoded = res.content.decode()\n",
    "encoded[0:100]"
   ]
  },
  {
   "cell_type": "code",
   "execution_count": null,
   "metadata": {},
   "outputs": [],
   "source": [
    "words = encoded.split()\n",
    "print(len(words))\n",
    "print(words[10000:11000])"
   ]
  },
  {
   "cell_type": "code",
   "execution_count": null,
   "metadata": {},
   "outputs": [],
   "source": [
    "unique_words = set(words)\n",
    "len(unique_words)"
   ]
  },
  {
   "cell_type": "code",
   "execution_count": null,
   "metadata": {},
   "outputs": [],
   "source": [
    "#Let's take a look\n",
    "\n",
    "unique_words[0:1000]\n",
    "# what just happened?"
   ]
  },
  {
   "cell_type": "code",
   "execution_count": null,
   "metadata": {},
   "outputs": [],
   "source": [
    "list(unique_words)[0:100]"
   ]
  },
  {
   "cell_type": "code",
   "execution_count": null,
   "metadata": {},
   "outputs": [],
   "source": [
    "#can anything be added to a set? let's try\n",
    "break_set = set()\n",
    "break_set.add(['alon'])\n",
    "# Maybe you remember ta very similar error? "
   ]
  },
  {
   "cell_type": "markdown",
   "metadata": {},
   "source": [
    "## read more\n",
    "[set](https://www.geeksforgeeks.org/python-sets/)\n",
    "[tuples](https://www.geeksforgeeks.org/python-tuples/)"
   ]
  }
 ],
 "metadata": {
  "kernelspec": {
   "display_name": "Python 3",
   "language": "python",
   "name": "python3"
  },
  "language_info": {
   "codemirror_mode": {
    "name": "ipython",
    "version": 3
   },
   "file_extension": ".py",
   "mimetype": "text/x-python",
   "name": "python",
   "nbconvert_exporter": "python",
   "pygments_lexer": "ipython3",
   "version": "3.8.1"
  }
 },
 "nbformat": 4,
 "nbformat_minor": 4
}
